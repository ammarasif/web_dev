{
  "nbformat": 4,
  "nbformat_minor": 0,
  "metadata": {
    "colab": {
      "name": "Ammara-Rock Paper Scissors project.ipynb",
      "provenance": [],
      "collapsed_sections": []
    },
    "kernelspec": {
      "name": "python3",
      "display_name": "Python 3"
    },
    "language_info": {
      "name": "python"
    }
  },
  "cells": [
    {
      "cell_type": "markdown",
      "metadata": {
        "id": "hw5wpCRSJLFG"
      },
      "source": [
        "# Rock Paper Scissors Hackathon Project\n",
        "The familiar game of Rock, Paper, Scissors is played like this: at the same time, two players display one of three symbols: a rock, paper, or scissors. \n",
        "- A rock beats scissors.\n",
        "- Scissors beat paper by cutting it \n",
        "- Paper beats rock by covering it.\n",
        "\n",
        "In our game, we will have the user input one of the three symbols and then the computer will randomly choose one too. We will continue to play until the user wants to quit.\n",
        "\n",
        "Bellow is what the output and input of the program will look like:"
      ]
    },
    {
      "cell_type": "markdown",
      "metadata": {
        "id": "lryzFbeTBVrm"
      },
      "source": [
        "```\n",
        "Enter rock,paper,scissors, or quit: rock\n",
        "Computer chose rock\n",
        "Both rock, there is a tie.\n",
        "Player: 0  vs Computer: 0\n",
        "\n",
        "Enter rock,paper,scissors, or quit: paper\n",
        "Computer chose rock\n",
        "Paper covers rock, you win.\n",
        "Player: 1  vs Computer: 0\n",
        "\n",
        "Enter rock,paper,scissors, or quit: scissors\n",
        "Computer chose rock\n",
        "Rock crushes scissors, you lose.\n",
        "Player: 1  vs Computer: 1\n",
        "\n",
        "Enter rock,paper,scissors, or quit: df\n",
        "This is not a valid choice, please try again.\n",
        "Enter rock,paper,scissors, or quit: quit\n",
        "You have won 33.33% of games\n",
        "```"
      ]
    },
    {
      "cell_type": "markdown",
      "metadata": {
        "id": "snzEQQvXLD1X"
      },
      "source": [
        "In this project we will provide you the \"main\" code, but you will have to write out all the methods. This will help you learn to read and write code. \n",
        "\n"
      ]
    },
    {
      "cell_type": "markdown",
      "metadata": {
        "id": "4na4EgGjc6cY"
      },
      "source": [
        "## Part 1: Reading The Code\n",
        "\n",
        "Before you get to any part of the coding, read through the main program. \n",
        "**Remember that this will not run correctly until you define all of the functions**. \n",
        "\n",
        "As you read through the code, look at each function. Think about what it will \n",
        "have to do. Then scroll down to look at the description of each function. \n"
      ]
    },
    {
      "cell_type": "code",
      "metadata": {
        "id": "FtoLWOye5sdo"
      },
      "source": [
        "########################################################\n",
        "#        THIS IS THE MAIN PROGRAM, DON'T CHANGE        #\n",
        "#             ANY PART OF THIS CODE                    #\n",
        "########################################################\n",
        "\n",
        "# import the random choice module\n",
        "from random import choice\n",
        "\n",
        "# set up variables we need\n",
        "games_played = 0\n",
        "player_wins = 0 \n",
        "computer_wins = 0\n",
        "player_input = \"\"\n",
        "\n",
        "# while the player does not input quit\n",
        "while player_input != \"quit\":\n",
        "\n",
        "  # get the user input from the player\n",
        "  player_input = getUserInput()\n",
        "\n",
        "  # if they did not input quit\n",
        "  if player_input != \"quit\":\n",
        " \n",
        "    # have the computer choose either rock, paper or scissors randomly\n",
        "    computer_choice = choice([\"rock\",\"paper\",\"scissors\"])\n",
        "\n",
        "    # compare the the choice of the computer and the player \n",
        "    # then save if the player  has a \"win\" or \"loss\"\n",
        "    win_status = compare_hands(player_input,computer_choice)\n",
        "    \n",
        "    # if the player won increase their score\n",
        "    if win_status == \"win\":\n",
        "      player_wins +=1\n",
        "    \n",
        "    # if the player lost then increase the computer score\n",
        "    if win_status == \"loss\":\n",
        "      computer_wins += 1\n",
        "    \n",
        "    # if it is a tie we dont need to increase either of their score\n",
        "\n",
        "    # we finished a round \n",
        "    games_played += 1 \n",
        "\n",
        "    # print out the current score of the player and computer\n",
        "    print(f\"Player: {player_wins}  vs Computer: {computer_wins}\")\n",
        "    print()\n",
        "\n",
        "\n",
        "# once we are outside of the while loop it meant that the player has\n",
        "# decided to quit so we should display percent of games the player won\n",
        "endGameDisplay(player_wins, games_played)"
      ],
      "execution_count": null,
      "outputs": []
    },
    {
      "cell_type": "markdown",
      "metadata": {
        "id": "o0g1Fg5tfnLU"
      },
      "source": [
        "## Part 2: Defining the getUserInput() function\n",
        "\n",
        "This function will help us get valid input from the user:\n",
        "*   The function takes in no arguments.\n",
        "*   It should ask a user to `Enter rock,paper,scissors, or quit: `\n",
        "*   While the user inputs anything other than these options, tell them that `This is not a valid choice, please try again.`\n",
        "*  Once the user inputs a valid choice, `return` that value.\n",
        "*  Once you are done you can use the test code block bellow to check that your method works as needed.\n",
        "*  Remember to run the code block when you define it before checking testing the method.\n",
        "\n",
        "Here is what the output could look like, and the function would return `\"paper\"`.\n",
        "```\n",
        "Enter rock,paper,scissors, or quit: never\n",
        "This is not a valid choice, please try again.\n",
        "Enter rock,paper,scissors, or quit: sad that I cannot do anything else\n",
        "This is not a valid choice, please try again.\n",
        "Enter rock,paper,scissors, or quit: paper\n",
        "```"
      ]
    },
    {
      "cell_type": "code",
      "metadata": {
        "id": "k1R9gqhP1UxL"
      },
      "source": [
        "# Add the code needed to this function.\n",
        "\n",
        "def getUserInput():\n",
        "  userInput = [\"rock\", \"paper\", \"scissors\"]\n",
        "  getUserInput = \" \"\n",
        "  while(getUserInput != userInput):\n",
        "    getUserInput = input(\"Enter rock, paper, scissors, or quit: \")\n",
        "    print(\"This is not a valid choice, please try again.\")\n",
        "  # method will request input from user, but only accept valid input\n",
        "  # should return the valid user choice  of the following\n",
        "  # (rock,paper,scissors,quit) as a string\n",
        "  return getUserInput\n"
      ],
      "execution_count": null,
      "outputs": []
    },
    {
      "cell_type": "markdown",
      "metadata": {
        "id": "MyQMLVy-iCmD"
      },
      "source": [
        "You can use the code block bellow to check that your code works. Run the cell and follow the directions in blue. This will tell you if you have any errors or if the code is correct and you can move on."
      ]
    },
    {
      "cell_type": "code",
      "metadata": {
        "id": "ybfm8ewqLRne",
        "colab": {
          "base_uri": "https://localhost:8080/"
        },
        "outputId": "f3ee0e22-fb25-4d16-f1f4-448a06fe8f6b"
      },
      "source": [
        "# Add the code needed to this function.\n",
        "try:\n",
        "  def getUserInput():\n",
        "    userInput = [\"rock\", \"paper\", \"scissors\",\"quit\"]\n",
        "    getUserInput = \" \"\n",
        "    while(getUserInput not in userInput):\n",
        "\n",
        "      getUserInput = input(\"Enter rock, paper, scissors, or quit: \")\n",
        "\n",
        "    return getUserInput\n",
        "  \n",
        "except(getUserInput is True):\n",
        "  print(\"This is not a valid choice, please try again.\")  \n",
        "  # method will request input from user, but only accept valid input\n",
        "  # should return the valid user choice  of the following\n",
        "  # (rock,paper,scissors,quit) as a string\n",
        "\n",
        "\n",
        "########################################################\n",
        "# THIS IS TESTING THE GETUSERINPUT(), DON'T CHANGE     #\n",
        "#             ANY PART OF THIS CODE                    #\n",
        "########################################################\n",
        "\n",
        "!pip install colorama\n",
        "from colorama import Fore, Back, Style\n",
        "\n",
        "\n",
        "print(Fore.BLUE + \"THIS WILL TEST YOUR getUserInput() FUNCTION.\")\n",
        "print()\n",
        "print(Fore.BLUE+ \"PLEASE ENTER scissors WHEN ASKED\" + Style.RESET_ALL)\n",
        "if \"scissors\" != getUserInput():\n",
        "  print(Fore.RED+ \"THERE IS AN ERROR, FUNCTION SHOULD RETURN scissors\")\n",
        "else:\n",
        "  print()\n",
        "  print(Fore.BLUE + \"PLEASE ENTER AN INVALID CHOICE WHEN ASKED, AND THEN paper\" + Style.RESET_ALL)\n",
        "  if \"paper\" != getUserInput():\n",
        "    print(Fore.RED+ \"THERE IS AN ERROR, FUNCTION SHOULD RETURN paper\")\n",
        "  else:\n",
        "    print()\n",
        "    print(Fore.BLUE +\"PLEASE ENTER AN INVALID CHOICE WHEN ASKED, AND THEN rock\" + Style.RESET_ALL)\n",
        "    if \"rock\" != getUserInput():\n",
        "      print(Fore.RED+ \"THERE IS AN ERROR, FUNCTION SHOULD RETURN rock\")\n",
        "    else:\n",
        "      print()\n",
        "      print(Fore.BLUE +\"PLEASE ENTER quit\" + Style.RESET_ALL)\n",
        "      if \"quit\" != getUserInput():\n",
        "        print(Fore.RED+ \"THERE IS AN ERROR, FUNCTION SHOULD RETURN quit HERE\")\n",
        "      else:\n",
        "        print()\n",
        "        print(Fore.GREEN +\"THIS FUNCTION WORKS AS REQUESTED AND IS CORRECT, MOVE ON TO THE NEXT PART\")\n"
      ],
      "execution_count": null,
      "outputs": [
        {
          "output_type": "stream",
          "name": "stdout",
          "text": [
            "Requirement already satisfied: colorama in /usr/local/lib/python3.7/dist-packages (0.4.4)\n",
            "\u001b[34mTHIS WILL TEST YOUR getUserInput() FUNCTION.\n",
            "\n",
            "\u001b[34mPLEASE ENTER scissors WHEN ASKED\u001b[0m\n",
            "Enter rock, paper, scissors, or quit: scissors\n",
            "\n",
            "\u001b[34mPLEASE ENTER AN INVALID CHOICE WHEN ASKED, AND THEN paper\u001b[0m\n",
            "Enter rock, paper, scissors, or quit: gus\n",
            "Enter rock, paper, scissors, or quit: paper\n",
            "\n",
            "\u001b[34mPLEASE ENTER AN INVALID CHOICE WHEN ASKED, AND THEN rock\u001b[0m\n",
            "Enter rock, paper, scissors, or quit: neve\n",
            "Enter rock, paper, scissors, or quit: rock\n",
            "\n",
            "\u001b[34mPLEASE ENTER quit\u001b[0m\n",
            "Enter rock, paper, scissors, or quit: quit\n",
            "\n",
            "\u001b[32mTHIS FUNCTION WORKS AS REQUESTED AND IS CORRECT, MOVE ON TO THE NEXT PART\n"
          ]
        }
      ]
    },
    {
      "cell_type": "markdown",
      "metadata": {
        "id": "8YkjPxW4iTJY"
      },
      "source": [
        "## Part 3: The compare_hands Function\n",
        "This function will take in the \"hand\" of the user and computer (such as rock and paper). It will then determine if the user has a win, tie, or loss.\n",
        "*   The function will take in two arguments `player_input` and `computer_choice`. Both will be strings of either `\"rock\"`, `\"paper\"`, or `\"scissors\"`\n",
        "*  The function will then compare all the possible combinations of hands and figure out the winner.\n",
        "* For each possible combination, `print` out the correct statment, then return the string `\"tie\"`,`\"win\"` or `\"loss\"` as needed:\n",
        "  * Print `Both rock, there is a tie.` then return `\"tie\"`\n",
        "  * Print `Paper covers rock, you lose.` then return `\"loss\"`\n",
        "  * Print `Rock crushes scissors, you win.` then return `\"win\"`\n",
        "  * Print `Paper covers rock, you win.` then return `\"win\"`\n",
        "  * Print `Both paper, there is a tie.` then return `\"tie\"`\n",
        "  * Print `Scissors cuts paper, you lose.` then return `\"loss\"`\n",
        "  * Print `Rock crushes scissors, you lose.` then return `\"loss\"`\n",
        "  * Print `Scissors cuts paper, you win.` then return `\"win\"`\n",
        "  * Print `Both scissors, there is a tie.` then return `\"tie\"`\n",
        "\n",
        "\n",
        "\n",
        "\n",
        "\n"
      ]
    },
    {
      "cell_type": "markdown",
      "metadata": {
        "id": "7wxU3RMf1FtI"
      },
      "source": [
        "You can use the code block bellow to check that your code works. Run the cell and follow the directions in blue. This will tell you if you have any errors or if the code is correct and you can move on."
      ]
    },
    {
      "cell_type": "code",
      "metadata": {
        "id": "p7pMFEUFw3zp"
      },
      "source": [
        "########################################################\n",
        "# THIS IS TESTING THE COMPARE_HANDS(), DON'T CHANGE     #\n",
        "#             ANY PART OF THIS CODE                    #\n",
        "########################################################\n",
        "from colorama import Fore, Back, Style\n",
        "\n",
        "\n",
        "\n",
        "print(Fore.BLUE + \"THIS WILL TEST YOUR compare_hands FUNCTION.\" + Style.RESET_ALL)\n",
        "print()\n",
        "if  (compare_hands(\"rock\",\"rock\") != \"tie\") or (compare_hands(\"paper\",\"paper\") != \"tie\") or (compare_hands(\"rock\",\"rock\") != \"tie\"):\n",
        "  print(Fore.RED + \"ERROR: YOU SHOULD RETURN tie IF BOTH THE PLAYER AND COMPUTER HAVE THE SAME HAND\"  + Style.RESET_ALL)\n",
        "else:\n",
        "  if (compare_hands(\"paper\",\"rock\") != \"win\") or (compare_hands(\"rock\",\"scissors\") != \"win\") or (compare_hands(\"scissors\",\"paper\") != \"win\"):\n",
        "    print(Fore.RED + \"ERROR: YOU SHOULD RETURN win IF THE PLAYER WINS\"  + Style.RESET_ALL)\n",
        "  else:\n",
        "    if (compare_hands(\"rock\",\"paper\") != \"loss\") or (compare_hands(\"scissors\",\"rock\") != \"loss\") or (compare_hands(\"paper\",\"scissors\") != \"loss\"):\n",
        "      print(Fore.RED + \"ERROR: YOU SHOULD RETURN loss IF THE PLAYER losses\" + Style.RESET_ALL)\n",
        "    else:\n",
        "      print(Fore.GREEN + \"THIS FUNCTION WORKS AS REQUESTED, MOVE ON TO THE NEXT PROBLEM\")\n",
        "  \n",
        "\n",
        "\n",
        "\n",
        "\n"
      ],
      "execution_count": null,
      "outputs": []
    },
    {
      "cell_type": "code",
      "source": [
        "# Add the code needed to this function.\n",
        "\n",
        "def compare_hands(player_input,computer_choice):\n",
        "\n",
        "  if (player_input == \"rock\" and computer_choice == \"rock\"):\n",
        "    print(\"Both rock, there is a tie\")\n",
        "    return \"tie\"\n",
        "  \n",
        "  elif (player_input == \"rock\" and computer_choice == \"paper\"):\n",
        "    print(\"Paper covers rock, you lose\")\n",
        "    return \"loss\"\n",
        "        \n",
        "  elif (player_input == \"rock\" and computer_choice == \"scissors\"):\n",
        "    print(\"Rock crushes scissors, you win\")\n",
        "    return \"win\"\n",
        "\n",
        "  elif (player_input == \"paper\" and computer_choice == \"rock\"):\n",
        "    print(\"Paper covers rock, you win\")\n",
        "    return \"win\"\n",
        "\n",
        "  elif (player_input == \"paper\" and computer_choice == \"paper\"):\n",
        "    print(\"Both paper, there is a tie\")\n",
        "    return \"tie\"\n",
        "\n",
        "  elif (player_input == \"paper\" and computer_choice == \"scissors\"):\n",
        "    print(\"Scissors cuts paper, you lose\")\n",
        "    return \"loss\"  \n",
        "\n",
        "  elif (player_input == \"scissors\" and computer_choice == \"rock\"):\n",
        "    print(\"Rock crushes scissors, you lose\")\n",
        "    return \"loss\"\n",
        "\n",
        "  elif (player_input == \"scissors\" and computer_choice == \"paper\"):\n",
        "    print(\"Scissors cuts paper, you win\")\n",
        "    return \"win\"     \n",
        "\n",
        "  elif (player_input == \"scissors\" and computer_choice == \"scissors\"):\n",
        "    print(\"Both scissors, there is a tie. \")\n",
        "    return \"tie\" \n",
        "    \n",
        "      # function will play 1 \"round\" of rock paper scissors against the player\n",
        "  # it will then return \"tie\",\"win\" or \"loss\" based on how the user does\n",
        "  \n",
        "\n",
        "\n",
        "\n",
        "  \n",
        "########################################################\n",
        "# THIS IS TESTING THE COMPARE_HANDS(), DON'T CHANGE     #\n",
        "#             ANY PART OF THIS CODE                    #\n",
        "########################################################\n",
        "from colorama import Fore, Back, Style\n",
        "\n",
        "\n",
        "\n",
        "print(Fore.BLUE + \"THIS WILL TEST YOUR compare_hands FUNCTION.\" + Style.RESET_ALL)\n",
        "print()\n",
        "if  (compare_hands(\"rock\",\"rock\") != \"tie\") or (compare_hands(\"paper\",\"paper\") != \"tie\") or (compare_hands(\"rock\",\"rock\") != \"tie\"):\n",
        "  print(Fore.RED + \"ERROR: YOU SHOULD RETURN tie IF BOTH THE PLAYER AND COMPUTER HAVE THE SAME HAND\"  + Style.RESET_ALL)\n",
        "else:\n",
        "  if (compare_hands(\"paper\",\"rock\") != \"win\") or (compare_hands(\"rock\",\"scissors\") != \"win\") or (compare_hands(\"scissors\",\"paper\") != \"win\"):\n",
        "    print(Fore.RED + \"ERROR: YOU SHOULD RETURN win IF THE PLAYER WINS\"  + Style.RESET_ALL)\n",
        "  else:\n",
        "    if (compare_hands(\"rock\",\"paper\") != \"loss\") or (compare_hands(\"scissors\",\"rock\") != \"loss\") or (compare_hands(\"paper\",\"scissors\") != \"loss\"):\n",
        "      print(Fore.RED + \"ERROR: YOU SHOULD RETURN loss IF THE PLAYER losses\" + Style.RESET_ALL)\n",
        "    else:\n",
        "      print(Fore.GREEN + \"THIS FUNCTION WORKS AS REQUESTED, MOVE ON TO THE NEXT PROBLEM\")\n",
        "  \n",
        "\n",
        "\n",
        "\n",
        "\n"
      ],
      "metadata": {
        "colab": {
          "base_uri": "https://localhost:8080/"
        },
        "id": "ujakbOZG0bIR",
        "outputId": "935b18bb-be74-48bf-daab-1ebeee9458fe"
      },
      "execution_count": null,
      "outputs": [
        {
          "output_type": "stream",
          "name": "stdout",
          "text": [
            "\u001b[34mTHIS WILL TEST YOUR compare_hands FUNCTION.\u001b[0m\n",
            "\n",
            "Both rock, there is a tie\n",
            "Both paper, there is a tie\n",
            "Both rock, there is a tie\n",
            "Paper covers rock, you win\n",
            "Rock crushes scissors, you win\n",
            "Scissors cuts paper, you win\n",
            "Paper covers rock, you lose\n",
            "Rock crushes scissors, you lose\n",
            "Scissors cuts paper, you lose\n",
            "\u001b[32mTHIS FUNCTION WORKS AS REQUESTED, MOVE ON TO THE NEXT PROBLEM\n"
          ]
        }
      ]
    },
    {
      "cell_type": "markdown",
      "metadata": {
        "id": "VNc1GfHp1HOk"
      },
      "source": [
        "# Part 4: The End Game\n",
        "\n",
        "This function will take in the number of times the player has won and the total number of games played and print out what percent of games the player won.\n",
        "\n",
        "For example if the player won 10 of 33 games we would print out:\n",
        "\n",
        "`You have won 30.30% of games`\n",
        "\n",
        "\n",
        "\n",
        "*   The function takes two arguments player_win and games_played which are both integers.\n",
        "*  This function only prints, and does not need to return anything.\n",
        "*   You will have to test this method on your own. Make sure to check what happens if `player_wins` and `games_played` are both `0`.\n",
        "*  You do not know how to format a decimal into a percentage, look at the example and use that in your code. This will help you learn to ocassinaly use code you might not fully understand.\n",
        "\n"
      ]
    },
    {
      "cell_type": "code",
      "metadata": {
        "id": "2dCABXqI15-_"
      },
      "source": [
        "# here is an example on how to convert a decimal into a percentage\n",
        "\n",
        "# take two numbers\n",
        "num1 = 1\n",
        "num2 = 3\n",
        "\n",
        "# save the percent up to 5 decimal places\n",
        "percent = \"{:.5%}\".format(num1/num2)\n",
        "print(percent)\n",
        "\n",
        "# save the percent up to 1 decimal places\n",
        "percent = \"{:.1%}\".format(num1/num2)\n",
        "print(percent)\n",
        "\n",
        "# now figure out how to save the precent up to 2 decimal places...\n",
        "\n"
      ],
      "execution_count": null,
      "outputs": []
    },
    {
      "cell_type": "code",
      "metadata": {
        "id": "_bdVxULAH4Lz"
      },
      "source": [
        "try:\n",
        "  def endGameDisplay(player_wins, games_played):\n",
        "  \n",
        "    percentWins = \"{:.2%}\". format(player_wins/games_played)\n",
        "    return print(f\"You have won {percentWins} of games\")\n",
        "\n",
        "except ZeroDivisionError:\n",
        "  print(\"You cannot divide by zero!\")\n",
        "  # this function will display the percent of games the user won\n"
      ],
      "execution_count": null,
      "outputs": []
    },
    {
      "cell_type": "markdown",
      "metadata": {
        "id": "_CouluP74QXM"
      },
      "source": [
        "# Part 5: Now Everything Together \n",
        "You have finished writing all the functions! Now run the main code and make sure everything works well when combined together!"
      ]
    },
    {
      "cell_type": "code",
      "metadata": {
        "id": "8sJmSiwm4Xpc",
        "colab": {
          "base_uri": "https://localhost:8080/"
        },
        "outputId": "cd4efd44-7a89-42b0-8196-277a2b765fe6"
      },
      "source": [
        "########################################################\n",
        "#        THIS IS THE MAIN PROGRAM, DON'T CHANGE        #\n",
        "#             ANY PART OF THIS CODE                    #\n",
        "########################################################\n",
        "\n",
        "# import the random choice module\n",
        "from random import choice\n",
        "\n",
        "# set up variables we need\n",
        "games_played = 0\n",
        "player_wins = 0 \n",
        "computer_wins = 0\n",
        "player_input = \"\"\n",
        "\n",
        "# while the player does not input quit\n",
        "while player_input != \"quit\":\n",
        "\n",
        "  # get the user input from the player\n",
        "  player_input = getUserInput()\n",
        "\n",
        "  # if they did not input quit\n",
        "  if player_input != \"quit\":\n",
        " \n",
        "    # have the computer choose either rock, paper or scissors randomly\n",
        "    computer_choice = choice([\"rock\",\"paper\",\"scissors\"])\n",
        "\n",
        "    # compare the the choice of the computer and the player \n",
        "    # then save if the player  has a \"win\" or \"loss\"\n",
        "    win_status = compare_hands(player_input,computer_choice)\n",
        "    \n",
        "    # if the player won increase their score\n",
        "    if win_status == \"win\":\n",
        "      player_wins +=1\n",
        "    \n",
        "    # if the player lost then increase the computer score\n",
        "    if win_status == \"loss\":\n",
        "      computer_wins += 1\n",
        "    \n",
        "    # if it is a tie we dont need to increase either of their score\n",
        "\n",
        "    # we finished a round \n",
        "    games_played += 1 \n",
        "\n",
        "    # print out the current score of the player and computer\n",
        "    print(f\"Player: {player_wins}  vs Computer: {computer_wins}\")\n",
        "    print()\n",
        "\n",
        "\n",
        "# once we are outside of the while loop it meant that the player has\n",
        "# decided to quit so we should display percent of games the player won\n",
        "endGameDisplay(player_wins, games_played)"
      ],
      "execution_count": null,
      "outputs": [
        {
          "output_type": "stream",
          "name": "stdout",
          "text": [
            "Enter rock, paper, scissors, or quit: paper\n",
            "Both paper, there is a tie\n",
            "Player: 0  vs Computer: 0\n",
            "\n",
            "Enter rock, paper, scissors, or quit: rock\n",
            "Both rock, there is a tie\n",
            "Player: 0  vs Computer: 0\n",
            "\n",
            "Enter rock, paper, scissors, or quit: scissor\n",
            "Enter rock, paper, scissors, or quit: scissors\n",
            "Scissors cuts paper, you win\n",
            "Player: 1  vs Computer: 0\n",
            "\n",
            "Enter rock, paper, scissors, or quit: rock\n",
            "Paper covers rock, you lose\n",
            "Player: 1  vs Computer: 1\n",
            "\n",
            "Enter rock, paper, scissors, or quit: quit\n",
            "25.00%\n"
          ]
        }
      ]
    }
  ]
}