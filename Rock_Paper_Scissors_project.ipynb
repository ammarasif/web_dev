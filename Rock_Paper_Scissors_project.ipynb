{
  "nbformat": 4,
  "nbformat_minor": 0,
  "metadata": {
    "colab": {
      "name": "Rock Paper Scissors project.ipynb",
      "provenance": [],
      "authorship_tag": "ABX9TyPDoX1wKb+vXhH5w+nIGXjB"
    },
    "kernelspec": {
      "name": "python3",
      "display_name": "Python 3"
    },
    "language_info": {
      "name": "python"
    }
  },
  "cells": [
    {
      "cell_type": "code",
      "execution_count": null,
      "metadata": {
        "id": "CeMEe8bbAwfY"
      },
      "outputs": [],
      "source": [
        "Rock Paper Scissors project\n"
      ]
    },
    {
      "cell_type": "code",
      "metadata": {
        "id": "8sJmSiwm4Xpc",
        "colab": {
          "base_uri": "https://localhost:8080/"
        },
        "outputId": "cd4efd44-7a89-42b0-8196-277a2b765fe6"
      },
      "source": [
        "########################################################\n",
        "#        THIS IS THE MAIN PROGRAM, DON'T CHANGE        #\n",
        "#             ANY PART OF THIS CODE                    #\n",
        "########################################################\n",
        "\n",
        "# import the random choice module\n",
        "from random import choice\n",
        "\n",
        "# set up variables we need\n",
        "games_played = 0\n",
        "player_wins = 0 \n",
        "computer_wins = 0\n",
        "player_input = \"\"\n",
        "\n",
        "# while the player does not input quit\n",
        "while player_input != \"quit\":\n",
        "\n",
        "  # get the user input from the player\n",
        "  player_input = getUserInput()\n",
        "\n",
        "  # if they did not input quit\n",
        "  if player_input != \"quit\":\n",
        " \n",
        "    # have the computer choose either rock, paper or scissors randomly\n",
        "    computer_choice = choice([\"rock\",\"paper\",\"scissors\"])\n",
        "\n",
        "    # compare the the choice of the computer and the player \n",
        "    # then save if the player  has a \"win\" or \"loss\"\n",
        "    win_status = compare_hands(player_input,computer_choice)\n",
        "    \n",
        "    # if the player won increase their score\n",
        "    if win_status == \"win\":\n",
        "      player_wins +=1\n",
        "    \n",
        "    # if the player lost then increase the computer score\n",
        "    if win_status == \"loss\":\n",
        "      computer_wins += 1\n",
        "    \n",
        "    # if it is a tie we dont need to increase either of their score\n",
        "\n",
        "    # we finished a round \n",
        "    games_played += 1 \n",
        "\n",
        "    # print out the current score of the player and computer\n",
        "    print(f\"Player: {player_wins}  vs Computer: {computer_wins}\")\n",
        "    print()\n",
        "\n",
        "\n",
        "# once we are outside of the while loop it meant that the player has\n",
        "# decided to quit so we should display percent of games the player won\n",
        "endGameDisplay(player_wins, games_played)"
      ],
      "execution_count": null,
      "outputs": [
        {
          "output_type": "stream",
          "name": "stdout",
          "text": [
            "Enter rock, paper, scissors, or quit: paper\n",
            "Both paper, there is a tie\n",
            "Player: 0  vs Computer: 0\n",
            "\n",
            "Enter rock, paper, scissors, or quit: rock\n",
            "Both rock, there is a tie\n",
            "Player: 0  vs Computer: 0\n",
            "\n",
            "Enter rock, paper, scissors, or quit: scissor\n",
            "Enter rock, paper, scissors, or quit: scissors\n",
            "Scissors cuts paper, you win\n",
            "Player: 1  vs Computer: 0\n",
            "\n",
            "Enter rock, paper, scissors, or quit: rock\n",
            "Paper covers rock, you lose\n",
            "Player: 1  vs Computer: 1\n",
            "\n",
            "Enter rock, paper, scissors, or quit: quit\n",
            "25.00%\n"
          ]
        }
      ]
    }
  ]
}